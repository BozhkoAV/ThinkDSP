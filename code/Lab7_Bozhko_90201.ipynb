{
 "cells": [
  {
   "cell_type": "code",
   "execution_count": 1,
   "metadata": {
    "colab": {
     "base_uri": "https://localhost:8080/"
    },
    "executionInfo": {
     "elapsed": 894,
     "status": "ok",
     "timestamp": 1653286292910,
     "user": {
      "displayName": "Alexander Bozhko",
      "userId": "00104222149559112924"
     },
     "user_tz": -180
    },
    "id": "GszoYDX-e2sO",
    "outputId": "6953d9f2-3777-4b48-911a-b16f31450646"
   },
   "outputs": [
    {
     "name": "stdout",
     "output_type": "stream",
     "text": [
      "--2022-05-23 06:11:31--  https://github.com/AllenDowney/ThinkDSP/raw/master/code/thinkdsp.py\n",
      "Resolving github.com (github.com)... 13.114.40.48\n",
      "Connecting to github.com (github.com)|13.114.40.48|:443... connected.\n",
      "HTTP request sent, awaiting response... 302 Found\n",
      "Location: https://raw.githubusercontent.com/AllenDowney/ThinkDSP/master/code/thinkdsp.py [following]\n",
      "--2022-05-23 06:11:32--  https://raw.githubusercontent.com/AllenDowney/ThinkDSP/master/code/thinkdsp.py\n",
      "Resolving raw.githubusercontent.com (raw.githubusercontent.com)... 185.199.108.133, 185.199.109.133, 185.199.110.133, ...\n",
      "Connecting to raw.githubusercontent.com (raw.githubusercontent.com)|185.199.108.133|:443... connected.\n",
      "HTTP request sent, awaiting response... 200 OK\n",
      "Length: 48687 (48K) [text/plain]\n",
      "Saving to: ‘thinkdsp.py’\n",
      "\n",
      "thinkdsp.py         100%[===================>]  47.55K  --.-KB/s    in 0.01s   \n",
      "\n",
      "2022-05-23 06:11:32 (3.64 MB/s) - ‘thinkdsp.py’ saved [48687/48687]\n",
      "\n"
     ]
    }
   ],
   "source": [
    "import os\n",
    "\n",
    "if not os.path.exists('thinkdsp.py'):\n",
    "    !wget https://github.com/AllenDowney/ThinkDSP/raw/master/code/thinkdsp.py\n",
    "\n",
    "import numpy as np\n",
    "np.set_printoptions(precision=3, suppress=True)"
   ]
  },
  {
   "cell_type": "markdown",
   "metadata": {
    "id": "QTijpjKaige2"
   },
   "source": [
    "# Упражнение 7.1"
   ]
  },
  {
   "cell_type": "markdown",
   "metadata": {
    "id": "ktB4W-RDiejd"
   },
   "source": [
    "Была проверена работа примеров в блокноте chap07.ipynb"
   ]
  },
  {
   "cell_type": "markdown",
   "metadata": {
    "id": "bj3NWgEYTrOD"
   },
   "source": [
    "# Упражнение 7.2"
   ]
  },
  {
   "cell_type": "markdown",
   "metadata": {
    "id": "kvp7mFUmYmh4"
   },
   "source": [
    "В главе 7 показано, как выразить ДПФ и обратное ДПФ произведениями матриц. Время выполнения этих операций пропорционально $N^2$, где $N$ — длина массива сигнала. Во многих случаях этого достаточно, но есть алгоритм и побыстрее — быстрое преобразование Фурье (БПФ); время его работы пропорционально $N$log$N$.\n",
    "\n",
    "Ключ к БПФ - это лемма Дэниелсона-Ланцоша (Danielson-Lanczos):\n",
    "\n",
    "DFT($y$)[$n$] = DFT($e$)[$n$] + exp(—2$\\pi$$in/N$) DFT($o$)[$n$],\n",
    "\n",
    "где DFT($y$)[$n$] — это $n$-й элемент ДПФ от $y$, $e$ и $o$ — массивы сигнала,\n",
    "содержащие соответственно четные и нечетные элементы $y$.\n",
    "\n",
    "Эта лемма предлагает рекурсивный алгоритм для ДПФ:\n",
    "\n",
    "1. Дан массив сигнала $y$. Разделим его на четные элементы $e$ и нечетные элементы $o$.\n",
    "\n",
    "2. Вычислим DFT $e$ и $o$, делая рекурсивные вызовы.\n",
    "\n",
    "3. Вычислим DFT($y$) для каждого значения $n$, используя лемму Дэниелсона-Ланцоша.\n",
    "\n",
    "В простейшем случае эту рекурсию надо продолжать, пока длина $y$ не дойдет до 1. Тогда DFT($y$) = $y$. А если длина $y$ достаточно мала, можно вычислить его ДПФ перемножением матриц, используя заранее вычисленные матрицы.\n"
   ]
  },
  {
   "cell_type": "markdown",
   "metadata": {
    "id": "CZDzAlUDHjYl"
   },
   "source": [
    "Для быстрого преобразования Фурье может быть использована библиотечная функция np.fft.fft"
   ]
  },
  {
   "cell_type": "code",
   "execution_count": 2,
   "metadata": {
    "colab": {
     "base_uri": "https://localhost:8080/"
    },
    "executionInfo": {
     "elapsed": 36,
     "status": "ok",
     "timestamp": 1653286292912,
     "user": {
      "displayName": "Alexander Bozhko",
      "userId": "00104222149559112924"
     },
     "user_tz": -180
    },
    "id": "9GYJ_oBpdqLZ",
    "outputId": "da39e4fc-eff0-4831-cc02-e75ff1ad1ac2"
   },
   "outputs": [
    {
     "name": "stdout",
     "output_type": "stream",
     "text": [
      "[ 0.2+0.j  -1.2-0.2j  0.2+0.j  -1.2+0.2j]\n"
     ]
    }
   ],
   "source": [
    "ys = [-0.5, 0.1, 0.7, -0.1]\n",
    "hs = np.fft.fft(ys)\n",
    "print(hs)"
   ]
  },
  {
   "cell_type": "code",
   "execution_count": 3,
   "metadata": {
    "executionInfo": {
     "elapsed": 33,
     "status": "ok",
     "timestamp": 1653286292916,
     "user": {
      "displayName": "Alexander Bozhko",
      "userId": "00104222149559112924"
     },
     "user_tz": -180
    },
    "id": "GIOk7OFldrJB"
   },
   "outputs": [],
   "source": [
    "PI2 = 2 * np.pi\n",
    "def dft(ys):\n",
    "    N = len(ys)\n",
    "    ts = np.arange(N) / N\n",
    "    freqs = np.arange(N)\n",
    "    args = np.outer(ts, freqs)\n",
    "    M = np.exp(1j * PI2 * args)\n",
    "    amps = M.conj().transpose().dot(ys)\n",
    "    return amps"
   ]
  },
  {
   "cell_type": "markdown",
   "metadata": {
    "id": "VQl29LUyIQ_0"
   },
   "source": [
    "Результаты для БПФ совпадают с результатами получеными при дискретном преобразовании Фурье."
   ]
  },
  {
   "cell_type": "code",
   "execution_count": 4,
   "metadata": {
    "colab": {
     "base_uri": "https://localhost:8080/"
    },
    "executionInfo": {
     "elapsed": 33,
     "status": "ok",
     "timestamp": 1653286292918,
     "user": {
      "displayName": "Alexander Bozhko",
      "userId": "00104222149559112924"
     },
     "user_tz": -180
    },
    "id": "PMcpkL-EdxDQ",
    "outputId": "d84fe213-75e1-4fe5-bdcf-46e412aa1d70"
   },
   "outputs": [
    {
     "data": {
      "text/plain": [
       "5.864775846765962e-16"
      ]
     },
     "execution_count": 4,
     "metadata": {},
     "output_type": "execute_result"
    }
   ],
   "source": [
    "hs2 = dft(ys)\n",
    "np.sum(np.abs(hs - hs2))"
   ]
  },
  {
   "cell_type": "markdown",
   "metadata": {
    "id": "zegSucFJItYi"
   },
   "source": [
    "Предложенная версия БПФ предполагает разделение массива сигнала $y$ на четные элементы $e$ и нечетные элементы $o$. Полученные подмассивы передаются в библиотечную функцию np.fft.fft"
   ]
  },
  {
   "cell_type": "code",
   "execution_count": 5,
   "metadata": {
    "executionInfo": {
     "elapsed": 31,
     "status": "ok",
     "timestamp": 1653286292920,
     "user": {
      "displayName": "Alexander Bozhko",
      "userId": "00104222149559112924"
     },
     "user_tz": -180
    },
    "id": "defP63DSdyZR"
   },
   "outputs": [],
   "source": [
    "def fft_norec(ys):\n",
    "    N = len(ys)\n",
    "    He = np.fft.fft(ys[::2])\n",
    "    Ho = np.fft.fft(ys[1::2])\n",
    "    \n",
    "    ns = np.arange(N)\n",
    "    W = np.exp(-1j * PI2 * ns / N)\n",
    "    \n",
    "    return np.tile(He, 2) + W * np.tile(Ho, 2)"
   ]
  },
  {
   "cell_type": "code",
   "execution_count": 6,
   "metadata": {
    "colab": {
     "base_uri": "https://localhost:8080/"
    },
    "executionInfo": {
     "elapsed": 31,
     "status": "ok",
     "timestamp": 1653286292921,
     "user": {
      "displayName": "Alexander Bozhko",
      "userId": "00104222149559112924"
     },
     "user_tz": -180
    },
    "id": "hrUOvCO_d44r",
    "outputId": "ce3e8b3f-2d28-44d8-dc3e-f70085ae33db"
   },
   "outputs": [
    {
     "data": {
      "text/plain": [
       "0.0"
      ]
     },
     "execution_count": 6,
     "metadata": {},
     "output_type": "execute_result"
    }
   ],
   "source": [
    "hs3 = fft_norec(ys)\n",
    "np.sum(np.abs(hs - hs3))"
   ]
  },
  {
   "cell_type": "markdown",
   "metadata": {
    "id": "19aTFOs8Kdu8"
   },
   "source": [
    "Вызов библиотечной функции np.fft.fft может быть заменён на рекурсивный вызов разработанной функции. "
   ]
  },
  {
   "cell_type": "code",
   "execution_count": 7,
   "metadata": {
    "executionInfo": {
     "elapsed": 28,
     "status": "ok",
     "timestamp": 1653286292922,
     "user": {
      "displayName": "Alexander Bozhko",
      "userId": "00104222149559112924"
     },
     "user_tz": -180
    },
    "id": "UpOeOzcdd6E3"
   },
   "outputs": [],
   "source": [
    "def fft(ys):\n",
    "    N = len(ys)\n",
    "    if N == 1:\n",
    "        return ys\n",
    "    \n",
    "    He = fft(ys[::2])\n",
    "    Ho = fft(ys[1::2])\n",
    "    \n",
    "    ns = np.arange(N)\n",
    "    W = np.exp(-1j * PI2 * ns / N)\n",
    "    \n",
    "    return np.tile(He, 2) + W * np.tile(Ho, 2)"
   ]
  },
  {
   "cell_type": "code",
   "execution_count": 8,
   "metadata": {
    "colab": {
     "base_uri": "https://localhost:8080/"
    },
    "executionInfo": {
     "elapsed": 28,
     "status": "ok",
     "timestamp": 1653286292923,
     "user": {
      "displayName": "Alexander Bozhko",
      "userId": "00104222149559112924"
     },
     "user_tz": -180
    },
    "id": "hjQ7RovieAHB",
    "outputId": "a5109cda-4130-40b8-cf93-471b02007c39"
   },
   "outputs": [
    {
     "data": {
      "text/plain": [
       "1.6653345369377348e-16"
      ]
     },
     "execution_count": 8,
     "metadata": {},
     "output_type": "execute_result"
    }
   ],
   "source": [
    "hs4 = fft(ys)\n",
    "np.sum(np.abs(hs - hs4))"
   ]
  }
 ],
 "metadata": {
  "colab": {
   "authorship_tag": "ABX9TyOCtU9zj5awkwdnvwkZ7BwY",
   "collapsed_sections": [],
   "name": "Lab7_Bozhko_90201.ipynb",
   "provenance": []
  },
  "kernelspec": {
   "display_name": "Python 3 (ipykernel)",
   "language": "python",
   "name": "python3"
  },
  "language_info": {
   "codemirror_mode": {
    "name": "ipython",
    "version": 3
   },
   "file_extension": ".py",
   "mimetype": "text/x-python",
   "name": "python",
   "nbconvert_exporter": "python",
   "pygments_lexer": "ipython3",
   "version": "3.9.12"
  }
 },
 "nbformat": 4,
 "nbformat_minor": 1
}
